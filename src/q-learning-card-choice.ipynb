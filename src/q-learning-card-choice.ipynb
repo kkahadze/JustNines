{
 "cells": [
  {
   "cell_type": "markdown",
   "metadata": {},
   "source": [
    "# Building Q-Table for Choosing Cards"
   ]
  },
  {
   "cell_type": "code",
   "execution_count": 1,
   "metadata": {},
   "outputs": [],
   "source": [
    "from card_choice_gym import CardChoiceEnv\n",
    "import numpy as np\n",
    "import random\n",
    "import pandas as pd\n",
    "import csv"
   ]
  },
  {
   "cell_type": "code",
   "execution_count": 16,
   "metadata": {},
   "outputs": [],
   "source": [
    "def LearnJoker(q_in=np.zeros((4, 9, 3, 4, 18, 4)), alpha_in=0.01, epsilon_in=0.5, gamma_in=0.95, episodes_in=100):\n",
    "  acts = ['STRG-BEAT', 'STRG-LOSS', 'WEAK-BEAT','WEAK-LOSS']\n",
    "  env = CardChoiceEnv()\n",
    "\n",
    "  alpha, gamma, epsilon = alpha_in, gamma_in, epsilon_in\n",
    "  q = q_in\n",
    "  \n",
    "  wins = []\n",
    "  good_calls = np.ndarray((6,)).T\n",
    "\n",
    "  for i in range(episodes_in): \n",
    "    done = False\n",
    "    s = env.reset()\n",
    "    s0, s1, s2, s3, s4 = s\n",
    "    while True: \n",
    "      if np.random.random() < epsilon:\n",
    "      # choose random action\n",
    "        act_num = random.randint(0, 3)\n",
    "      else:\n",
    "        # greedy\n",
    "        act_num = np.argmax(q[s0, s1, s2, s3, s4])\n",
    "      \n",
    "      action = acts[act_num]\n",
    "\n",
    "      s_, r, done, _ = env.step(action)\n",
    "\n",
    "      s_0, s_1, s_2, s_3, s_4 = s_\n",
    "      td_target = r + gamma * np.argmax(q[s_0, s_1, s_2, s_3, s_4])\n",
    "      td_error = td_target - q[s0, s1, s2, s3, s4, act_num]\n",
    "      s = s_\n",
    "\n",
    "      q[s0, s1, s2, s3, s4, act_num] += alpha * td_error\n",
    "      if done:\n",
    "        if r > 0:\n",
    "          wins.append(i)\n",
    "          good_calls = np.vstack((good_calls, [env.call_state]))\n",
    "        break\n",
    "  return wins, good_calls, q"
   ]
  },
  {
   "cell_type": "code",
   "execution_count": 19,
   "metadata": {},
   "outputs": [],
   "source": [
    "eps = 100000\n",
    "wins, calls, q = LearnJoker(epsilon_in=0.95, episodes_in=eps)\n",
    "len(calls)"
   ]
  },
  {
   "cell_type": "code",
   "execution_count": 18,
   "metadata": {},
   "outputs": [
    {
     "data": {
      "text/plain": [
       "array([[0., 0., 2., 2., 1., 0.],\n",
       "       [1., 0., 0., 0., 2., 2.],\n",
       "       [0., 0., 1., 2., 1., 0.],\n",
       "       ...,\n",
       "       [1., 1., 0., 2., 2., 2.],\n",
       "       [2., 2., 1., 0., 0., 3.],\n",
       "       [3., 0., 1., 2., 2., 0.]])"
      ]
     },
     "execution_count": 18,
     "metadata": {},
     "output_type": "execute_result"
    }
   ],
   "source": [
    "calls"
   ]
  },
  {
   "cell_type": "code",
   "execution_count": 4,
   "metadata": {},
   "outputs": [
    {
     "data": {
      "text/plain": [
       "451"
      ]
     },
     "execution_count": 4,
     "metadata": {},
     "output_type": "execute_result"
    }
   ],
   "source": [
    "eps = 1000\n",
    "wins, calls, q = LearnJoker(epsilon_in=0.01, episodes_in=eps, q_in = q)\n",
    "len(calls)"
   ]
  },
  {
   "cell_type": "code",
   "execution_count": 30,
   "metadata": {},
   "outputs": [],
   "source": [
    "with open('/Users/konstantinekahadze/Desktop/Projects/JustNines/data/calls.csv', 'w') as out:\n",
    "    csv_out = csv.writer(out)\n",
    "    csv_out.writerow(['order', 'already', 'jokers', \"aces\", \"kings\", \"queens\"])\n",
    "    for row in calls:\n",
    "        csv_out.writerow(row)"
   ]
  },
  {
   "cell_type": "code",
   "execution_count": 31,
   "metadata": {},
   "outputs": [
    {
     "data": {
      "text/html": [
       "<div>\n",
       "<style scoped>\n",
       "    .dataframe tbody tr th:only-of-type {\n",
       "        vertical-align: middle;\n",
       "    }\n",
       "\n",
       "    .dataframe tbody tr th {\n",
       "        vertical-align: top;\n",
       "    }\n",
       "\n",
       "    .dataframe thead th {\n",
       "        text-align: right;\n",
       "    }\n",
       "</style>\n",
       "<table border=\"1\" class=\"dataframe\">\n",
       "  <thead>\n",
       "    <tr style=\"text-align: right;\">\n",
       "      <th></th>\n",
       "      <th>order</th>\n",
       "      <th>already</th>\n",
       "      <th>jokers</th>\n",
       "      <th>aces</th>\n",
       "      <th>kings</th>\n",
       "      <th>queens</th>\n",
       "    </tr>\n",
       "  </thead>\n",
       "  <tbody>\n",
       "    <tr>\n",
       "      <th>0</th>\n",
       "      <td>3</td>\n",
       "      <td>3.0</td>\n",
       "      <td>0</td>\n",
       "      <td>0</td>\n",
       "      <td>2</td>\n",
       "      <td>1</td>\n",
       "    </tr>\n",
       "    <tr>\n",
       "      <th>1</th>\n",
       "      <td>1</td>\n",
       "      <td>0.0</td>\n",
       "      <td>0</td>\n",
       "      <td>1</td>\n",
       "      <td>0</td>\n",
       "      <td>1</td>\n",
       "    </tr>\n",
       "    <tr>\n",
       "      <th>2</th>\n",
       "      <td>2</td>\n",
       "      <td>0.0</td>\n",
       "      <td>1</td>\n",
       "      <td>1</td>\n",
       "      <td>0</td>\n",
       "      <td>2</td>\n",
       "    </tr>\n",
       "    <tr>\n",
       "      <th>3</th>\n",
       "      <td>3</td>\n",
       "      <td>3.0</td>\n",
       "      <td>0</td>\n",
       "      <td>1</td>\n",
       "      <td>0</td>\n",
       "      <td>1</td>\n",
       "    </tr>\n",
       "    <tr>\n",
       "      <th>4</th>\n",
       "      <td>3</td>\n",
       "      <td>1.0</td>\n",
       "      <td>0</td>\n",
       "      <td>2</td>\n",
       "      <td>0</td>\n",
       "      <td>0</td>\n",
       "    </tr>\n",
       "    <tr>\n",
       "      <th>...</th>\n",
       "      <td>...</td>\n",
       "      <td>...</td>\n",
       "      <td>...</td>\n",
       "      <td>...</td>\n",
       "      <td>...</td>\n",
       "      <td>...</td>\n",
       "    </tr>\n",
       "    <tr>\n",
       "      <th>492</th>\n",
       "      <td>3</td>\n",
       "      <td>2.0</td>\n",
       "      <td>1</td>\n",
       "      <td>2</td>\n",
       "      <td>0</td>\n",
       "      <td>1</td>\n",
       "    </tr>\n",
       "    <tr>\n",
       "      <th>493</th>\n",
       "      <td>0</td>\n",
       "      <td>0.0</td>\n",
       "      <td>0</td>\n",
       "      <td>0</td>\n",
       "      <td>0</td>\n",
       "      <td>2</td>\n",
       "    </tr>\n",
       "    <tr>\n",
       "      <th>494</th>\n",
       "      <td>1</td>\n",
       "      <td>1.0</td>\n",
       "      <td>1</td>\n",
       "      <td>1</td>\n",
       "      <td>1</td>\n",
       "      <td>1</td>\n",
       "    </tr>\n",
       "    <tr>\n",
       "      <th>495</th>\n",
       "      <td>3</td>\n",
       "      <td>3.0</td>\n",
       "      <td>1</td>\n",
       "      <td>0</td>\n",
       "      <td>3</td>\n",
       "      <td>0</td>\n",
       "    </tr>\n",
       "    <tr>\n",
       "      <th>496</th>\n",
       "      <td>3</td>\n",
       "      <td>1.0</td>\n",
       "      <td>0</td>\n",
       "      <td>2</td>\n",
       "      <td>1</td>\n",
       "      <td>1</td>\n",
       "    </tr>\n",
       "  </tbody>\n",
       "</table>\n",
       "<p>497 rows × 6 columns</p>\n",
       "</div>"
      ],
      "text/plain": [
       "     order  already  jokers  aces  kings  queens\n",
       "0        3      3.0       0     0      2       1\n",
       "1        1      0.0       0     1      0       1\n",
       "2        2      0.0       1     1      0       2\n",
       "3        3      3.0       0     1      0       1\n",
       "4        3      1.0       0     2      0       0\n",
       "..     ...      ...     ...   ...    ...     ...\n",
       "492      3      2.0       1     2      0       1\n",
       "493      0      0.0       0     0      0       2\n",
       "494      1      1.0       1     1      1       1\n",
       "495      3      3.0       1     0      3       0\n",
       "496      3      1.0       0     2      1       1\n",
       "\n",
       "[497 rows x 6 columns]"
      ]
     },
     "execution_count": 31,
     "metadata": {},
     "output_type": "execute_result"
    }
   ],
   "source": [
    "df = pd.read_csv('../data/calls.csv')\n",
    "df"
   ]
  },
  {
   "cell_type": "code",
   "execution_count": 32,
   "metadata": {},
   "outputs": [
    {
     "data": {
      "text/plain": [
       "count    497.000000\n",
       "mean       0.991952\n",
       "std        1.086916\n",
       "min        0.000000\n",
       "25%        0.000000\n",
       "50%        1.000000\n",
       "75%        2.000000\n",
       "max        4.000000\n",
       "Name: already, dtype: float64"
      ]
     },
     "execution_count": 32,
     "metadata": {},
     "output_type": "execute_result"
    }
   ],
   "source": [
    "df.already.describe()"
   ]
  },
  {
   "cell_type": "code",
   "execution_count": 10,
   "metadata": {},
   "outputs": [],
   "source": [
    "def save_q_table(table):\n",
    "    file = '../models/q-table.npy'\n",
    "    with open(file, \"wb\"):\n",
    "        np.save(file, table, allow_pickle=True)"
   ]
  },
  {
   "cell_type": "code",
   "execution_count": 11,
   "metadata": {},
   "outputs": [],
   "source": [
    "save_q_table(q)"
   ]
  }
 ],
 "metadata": {
  "interpreter": {
   "hash": "2496e9c8954cfb85d8fd929854c5948b9695e07ca8c3f102449d1d34246a9882"
  },
  "kernelspec": {
   "display_name": "Python 3.8.2 ('gym')",
   "language": "python",
   "name": "python3"
  },
  "language_info": {
   "codemirror_mode": {
    "name": "ipython",
    "version": 3
   },
   "file_extension": ".py",
   "mimetype": "text/x-python",
   "name": "python",
   "nbconvert_exporter": "python",
   "pygments_lexer": "ipython3",
   "version": "3.8.2"
  },
  "orig_nbformat": 4
 },
 "nbformat": 4,
 "nbformat_minor": 2
}
