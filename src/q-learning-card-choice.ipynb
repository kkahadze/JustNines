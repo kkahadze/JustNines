{
 "cells": [
  {
   "cell_type": "markdown",
   "metadata": {},
   "source": [
    "# Building Q-Table for Choosing Cards"
   ]
  },
  {
   "cell_type": "code",
   "execution_count": 19,
   "metadata": {},
   "outputs": [],
   "source": [
    "from card_choice_gym import CardChoiceEnv\n",
    "from utils import save_q_table, write_calls\n",
    "import numpy as np\n",
    "from keras.models import load_model\n",
    "import time\n",
    "import os\n",
    "from collections import Counter\n",
    "from tqdm import tqdm"
   ]
  },
  {
   "cell_type": "code",
   "execution_count": 2,
   "metadata": {},
   "outputs": [],
   "source": [
    "q = np.load('../models/q-table.npy')"
   ]
  },
  {
   "cell_type": "code",
   "execution_count": 2,
   "metadata": {},
   "outputs": [
    {
     "name": "stderr",
     "output_type": "stream",
     "text": [
      "2022-05-15 18:23:33.627917: I tensorflow/core/platform/cpu_feature_guard.cc:151] This TensorFlow binary is optimized with oneAPI Deep Neural Network Library (oneDNN) to use the following CPU instructions in performance-critical operations:  AVX2 FMA\n",
      "To enable them in other operations, rebuild TensorFlow with the appropriate compiler flags.\n"
     ]
    }
   ],
   "source": [
    "if os.path.exists('../models/calling_nn_1.pickle'):\n",
    "    cm = load_model('../models/calling_nn_1.pickle')\n"
   ]
  },
  {
   "cell_type": "code",
   "execution_count": 20,
   "metadata": {},
   "outputs": [],
   "source": [
    "def LearnJoker(q_in=np.zeros((4, 10, 3, 4, 19, 36)), alpha_in=0.01, epsilon_in=0.5, gamma_in=0.95, episodes_in=100):\n",
    "  env = CardChoiceEnv()\n",
    "\n",
    "  alpha, gamma, epsilon = alpha_in, gamma_in, epsilon_in\n",
    "  q = q_in\n",
    "  \n",
    "  wins = []\n",
    "  good_calls = np.zeros((7,))\n",
    "\n",
    "  actions = []\n",
    "\n",
    "  for i in tqdm(range(episodes_in)): \n",
    "    done = False\n",
    "    s = env.reset()\n",
    "    env.calling_model = cm\n",
    "    action_value_list= q[s]\n",
    "\n",
    "    while True: \n",
    "      if np.random.random() < epsilon:\n",
    "        action = env.action_space.sample()\n",
    "        if not env.in_playable(0, action):\n",
    "          action = env.action_space.sample()\n",
    "      else:\n",
    "        for poss, _ in Counter({a : b for (a, b) in enumerate(action_value_list)}).most_common():\n",
    "          if env.in_playable(0, poss):\n",
    "            action = poss \n",
    "    \n",
    "      s_, r, done, _ = env.step(action)\n",
    "      \n",
    "      td_target = r + gamma * np.argmax(q[s_])\n",
    "      td_error = td_target - q[s][action]\n",
    "      s = s_\n",
    "\n",
    "      q[s][action] += alpha * td_error\n",
    "      if done:\n",
    "        if r > 0:\n",
    "          wins.append(i)\n",
    "          good_calls = np.vstack((good_calls, [env.call_state]))\n",
    "\n",
    "        break\n",
    "      actions.append(action)\n",
    "  return wins, good_calls, q, actions"
   ]
  },
  {
   "cell_type": "code",
   "execution_count": 35,
   "metadata": {},
   "outputs": [],
   "source": [
    "%reload_ext autoreload\n",
    "%autoreload 2"
   ]
  },
  {
   "cell_type": "code",
   "execution_count": 37,
   "metadata": {},
   "outputs": [
    {
     "name": "stderr",
     "output_type": "stream",
     "text": [
      "100%|██████████| 2000/2000 [00:05<00:00, 348.62it/s]"
     ]
    },
    {
     "name": "stdout",
     "output_type": "stream",
     "text": [
      "Win rate: 0.2535\n",
      "Time: 5.739034016000005 seconds\n"
     ]
    },
    {
     "name": "stderr",
     "output_type": "stream",
     "text": [
      "\n"
     ]
    }
   ],
   "source": [
    "eps = 2000\n",
    "wins, calls, q, acts= LearnJoker(epsilon_in=.5, episodes_in=eps, alpha_in=0.001)\n",
    "print(f\"Win rate: {len(wins)/ eps}\")\n"
   ]
  },
  {
   "cell_type": "code",
   "execution_count": 38,
   "metadata": {},
   "outputs": [
    {
     "name": "stderr",
     "output_type": "stream",
     "text": [
      "100%|██████████| 1000/1000 [00:03<00:00, 323.49it/s]"
     ]
    },
    {
     "name": "stdout",
     "output_type": "stream",
     "text": [
      "Win rate: 0.18\n",
      "Time: 3.0932483799999773 seconds\n"
     ]
    },
    {
     "name": "stderr",
     "output_type": "stream",
     "text": [
      "\n"
     ]
    }
   ],
   "source": [
    "start = time.perf_counter()\n",
    "eps = 1000\n",
    "wins, calls, q, actions = LearnJoker(epsilon_in=0, episodes_in=eps, q_in=q)\n",
    "print(f\"Win rate: {len(wins)/eps}\")\n",
    "end = time.perf_counter()\n",
    "print(f\"Time: {end - start} seconds\")\n"
   ]
  },
  {
   "cell_type": "code",
   "execution_count": 28,
   "metadata": {},
   "outputs": [
    {
     "name": "stdout",
     "output_type": "stream",
     "text": [
      "4162\n",
      "3587\n",
      "4085\n",
      "3550\n",
      "4092\n",
      "4067\n",
      "4165\n",
      "4231\n",
      "4281\n",
      "4167\n",
      "4208\n",
      "4270\n",
      "4238\n",
      "4222\n",
      "4169\n",
      "4236\n",
      "4444\n",
      "4203\n",
      "4260\n",
      "4279\n",
      "4524\n",
      "4298\n",
      "4421\n",
      "4481\n",
      "4590\n",
      "4432\n",
      "4588\n",
      "4520\n",
      "4725\n",
      "4695\n",
      "5024\n",
      "5050\n",
      "5270\n",
      "5280\n",
      "5479\n",
      "5707\n"
     ]
    }
   ],
   "source": [
    "from more_itertools import quantify\n",
    "for i in range(36):\n",
    "    print(acts.count(i))"
   ]
  },
  {
   "cell_type": "code",
   "execution_count": 34,
   "metadata": {},
   "outputs": [
    {
     "ename": "NameError",
     "evalue": "name 'save_q_table' is not defined",
     "output_type": "error",
     "traceback": [
      "\u001b[0;31m---------------------------------------------------------------------------\u001b[0m",
      "\u001b[0;31mNameError\u001b[0m                                 Traceback (most recent call last)",
      "\u001b[0;32m/var/folders/mp/f6xyrt0d39nfy4lhdt7vg5h00000gn/T/ipykernel_76654/2994715851.py\u001b[0m in \u001b[0;36m<module>\u001b[0;34m\u001b[0m\n\u001b[0;32m----> 1\u001b[0;31m \u001b[0msave_q_table\u001b[0m\u001b[0;34m(\u001b[0m\u001b[0mq\u001b[0m\u001b[0;34m)\u001b[0m\u001b[0;34m\u001b[0m\u001b[0;34m\u001b[0m\u001b[0m\n\u001b[0m\u001b[1;32m      2\u001b[0m \u001b[0mwrite_calls\u001b[0m\u001b[0;34m(\u001b[0m\u001b[0mcalls\u001b[0m\u001b[0;34m)\u001b[0m\u001b[0;34m\u001b[0m\u001b[0;34m\u001b[0m\u001b[0m\n",
      "\u001b[0;31mNameError\u001b[0m: name 'save_q_table' is not defined"
     ]
    }
   ],
   "source": [
    "save_q_table(q)\n",
    "write_calls(calls)"
   ]
  },
  {
   "cell_type": "code",
   "execution_count": 23,
   "metadata": {},
   "outputs": [
    {
     "data": {
      "text/plain": [
       "[('Quail', 5), ('Sam', 2)]"
      ]
     },
     "execution_count": 23,
     "metadata": {},
     "output_type": "execute_result"
    }
   ],
   "source": [
    "Counter({\"Quail\": 5, \n",
    "        \"Sam\": 2}).most_common()"
   ]
  },
  {
   "cell_type": "code",
   "execution_count": null,
   "metadata": {},
   "outputs": [],
   "source": []
  }
 ],
 "metadata": {
  "interpreter": {
   "hash": "aee8b7b246df8f9039afb4144a1f6fd8d2ca17a180786b69acc140d282b71a49"
  },
  "kernelspec": {
   "display_name": "Python 3.9.12 64-bit",
   "language": "python",
   "name": "python3"
  },
  "language_info": {
   "codemirror_mode": {
    "name": "ipython",
    "version": 3
   },
   "file_extension": ".py",
   "mimetype": "text/x-python",
   "name": "python",
   "nbconvert_exporter": "python",
   "pygments_lexer": "ipython3",
   "version": "3.9.12"
  },
  "orig_nbformat": 4
 },
 "nbformat": 4,
 "nbformat_minor": 2
}
