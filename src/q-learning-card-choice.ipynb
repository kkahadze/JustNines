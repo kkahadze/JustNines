{
 "cells": [
  {
   "cell_type": "markdown",
   "metadata": {},
   "source": [
    "# Building Q-Table for Choosing Cards"
   ]
  },
  {
   "cell_type": "code",
   "execution_count": 5,
   "metadata": {},
   "outputs": [],
   "source": [
    "from tqdm import tqdm\n",
    "from card_choice_gym import CardChoiceEnv\n",
    "from utils import *\n",
    "import numpy as np\n",
    "import random\n",
    "from keras.models import load_model\n",
    "import time\n",
    "import os"
   ]
  },
  {
   "cell_type": "code",
   "execution_count": 2,
   "metadata": {},
   "outputs": [],
   "source": [
    "q = np.load('../models/q-table.npy')"
   ]
  },
  {
   "cell_type": "code",
   "execution_count": 2,
   "metadata": {},
   "outputs": [
    {
     "name": "stderr",
     "output_type": "stream",
     "text": [
      "2022-05-15 15:45:11.613607: I tensorflow/core/platform/cpu_feature_guard.cc:151] This TensorFlow binary is optimized with oneAPI Deep Neural Network Library (oneDNN) to use the following CPU instructions in performance-critical operations:  AVX2 FMA\n",
      "To enable them in other operations, rebuild TensorFlow with the appropriate compiler flags.\n"
     ]
    }
   ],
   "source": [
    "if os.path.exists('../models/calling_nn_1.pickle'):\n",
    "    cm = load_model('../models/calling_nn_1.pickle')\n"
   ]
  },
  {
   "cell_type": "code",
   "execution_count": 6,
   "metadata": {},
   "outputs": [],
   "source": [
    "def LearnJoker(q_in=np.zeros((4, 9, 3, 4, 19, 4)), alpha_in=0.01, epsilon_in=0.5, gamma_in=0.95, episodes_in=100):\n",
    "  acts = ['STRG-BEAT', 'STRG-LOSS', 'WEAK-BEAT','WEAK-LOSS']\n",
    "  env = CardChoiceEnv()\n",
    "\n",
    "  alpha, gamma, epsilon = alpha_in, gamma_in, epsilon_in\n",
    "  q = q_in\n",
    "  \n",
    "  wins = []\n",
    "  good_calls = np.zeros((7,))\n",
    "\n",
    "  actions = []\n",
    "\n",
    "  for i in tqdm(range(episodes_in)): \n",
    "    done = False\n",
    "    s = env.reset()\n",
    "    env.calling_model = cm\n",
    "    s0, s1, s2, s3, s4 = s\n",
    "    while True: \n",
    "      if np.random.random() < epsilon:\n",
    "      # choose random action\n",
    "        act_num = random.randint(0, 3)\n",
    "      else:\n",
    "        # greedy\n",
    "        act_num = np.argmax(q[s0, s1, s2, s3, s4])\n",
    "      \n",
    "      action = acts[act_num]\n",
    "\n",
    "      s_, r, done, _ = env.step(action)\n",
    "\n",
    "      s_0, s_1, s_2, s_3, s_4 = s_\n",
    "      \n",
    "      td_target = r + gamma * np.argmax(q[s_0, s_1, s_2, s_3, s_4])\n",
    "      td_error = td_target - q[s0, s1, s2, s3, s4, act_num]\n",
    "      s = s_\n",
    "\n",
    "      q[s0, s1, s2, s3, s4, act_num] += alpha * td_error\n",
    "      if done:\n",
    "        if r > 0:\n",
    "          wins.append(i)\n",
    "          good_calls = np.vstack((good_calls, [env.call_state]))\n",
    "        break\n",
    "      actions.append(act_num)\n",
    "  return wins, good_calls, q, actions"
   ]
  },
  {
   "cell_type": "code",
   "execution_count": 7,
   "metadata": {},
   "outputs": [
    {
     "name": "stderr",
     "output_type": "stream",
     "text": [
      "100%|██████████| 1000/1000 [00:11<00:00, 88.19it/s]"
     ]
    },
    {
     "name": "stdout",
     "output_type": "stream",
     "text": [
      "Win rate: 0.102\n",
      "Time: 11.366655232 seconds\n"
     ]
    },
    {
     "name": "stderr",
     "output_type": "stream",
     "text": [
      "\n"
     ]
    }
   ],
   "source": [
    "\n",
    "start = time.perf_counter()\n",
    "eps = 1000\n",
    "wins, calls, q, acts= LearnJoker(epsilon_in=1, episodes_in=eps)\n",
    "print(f\"Win rate: {len(wins)/ eps}\")\n",
    "end = time.perf_counter()\n",
    "print(f\"Time: {end - start} seconds\")\n"
   ]
  },
  {
   "cell_type": "code",
   "execution_count": 25,
   "metadata": {},
   "outputs": [
    {
     "name": "stdout",
     "output_type": "stream",
     "text": [
      "Win rate: 0.319\n",
      "Time: 2.9014058640000258 seconds\n"
     ]
    }
   ],
   "source": [
    "start = time.perf_counter()\n",
    "eps = 1000\n",
    "wins, calls, q, actions = LearnJoker(epsilon_in=0, episodes_in=eps, q_in=q)\n",
    "print(f\"Win rate: {len(wins)/eps}\")\n",
    "end = time.perf_counter()\n",
    "print(f\"Time: {end - start} seconds\")\n"
   ]
  },
  {
   "cell_type": "code",
   "execution_count": 33,
   "metadata": {},
   "outputs": [
    {
     "data": {
      "text/plain": [
       "[75, 8, 3501, 4416]"
      ]
     },
     "execution_count": 33,
     "metadata": {},
     "output_type": "execute_result"
    }
   ],
   "source": [
    "from more_itertools import quantify\n",
    "[quantify([i == j for i in actions]) for j in range(4)]"
   ]
  },
  {
   "cell_type": "code",
   "execution_count": 34,
   "metadata": {},
   "outputs": [
    {
     "ename": "NameError",
     "evalue": "name 'save_q_table' is not defined",
     "output_type": "error",
     "traceback": [
      "\u001b[0;31m---------------------------------------------------------------------------\u001b[0m",
      "\u001b[0;31mNameError\u001b[0m                                 Traceback (most recent call last)",
      "\u001b[0;32m/var/folders/mp/f6xyrt0d39nfy4lhdt7vg5h00000gn/T/ipykernel_76654/2994715851.py\u001b[0m in \u001b[0;36m<module>\u001b[0;34m\u001b[0m\n\u001b[0;32m----> 1\u001b[0;31m \u001b[0msave_q_table\u001b[0m\u001b[0;34m(\u001b[0m\u001b[0mq\u001b[0m\u001b[0;34m)\u001b[0m\u001b[0;34m\u001b[0m\u001b[0;34m\u001b[0m\u001b[0m\n\u001b[0m\u001b[1;32m      2\u001b[0m \u001b[0mwrite_calls\u001b[0m\u001b[0;34m(\u001b[0m\u001b[0mcalls\u001b[0m\u001b[0;34m)\u001b[0m\u001b[0;34m\u001b[0m\u001b[0;34m\u001b[0m\u001b[0m\n",
      "\u001b[0;31mNameError\u001b[0m: name 'save_q_table' is not defined"
     ]
    }
   ],
   "source": [
    "save_q_table(q)\n",
    "write_calls(calls)"
   ]
  },
  {
   "cell_type": "code",
   "execution_count": null,
   "metadata": {},
   "outputs": [],
   "source": []
  }
 ],
 "metadata": {
  "interpreter": {
   "hash": "aee8b7b246df8f9039afb4144a1f6fd8d2ca17a180786b69acc140d282b71a49"
  },
  "kernelspec": {
   "display_name": "Python 3.9.12 64-bit",
   "language": "python",
   "name": "python3"
  },
  "language_info": {
   "codemirror_mode": {
    "name": "ipython",
    "version": 3
   },
   "file_extension": ".py",
   "mimetype": "text/x-python",
   "name": "python",
   "nbconvert_exporter": "python",
   "pygments_lexer": "ipython3",
   "version": "3.9.12"
  },
  "orig_nbformat": 4
 },
 "nbformat": 4,
 "nbformat_minor": 2
}
