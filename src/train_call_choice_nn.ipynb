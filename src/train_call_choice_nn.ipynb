{
 "cells": [
  {
   "cell_type": "code",
   "execution_count": 16,
   "metadata": {},
   "outputs": [],
   "source": [
    "from keras.models import Sequential ,load_model\n",
    "from keras.layers import Dense\n",
    "import pandas as pd\n",
    "from keras.utils import np_utils\n",
    "from sklearn.preprocessing import LabelEncoder\n",
    "import numpy as np\n",
    "from sklearn.model_selection import train_test_split"
   ]
  },
  {
   "cell_type": "code",
   "execution_count": 17,
   "metadata": {},
   "outputs": [],
   "source": [
    "# load the dataet\n",
    "dataset = pd.read_csv('../data/calls.csv')\n",
    "data_in = np.asarray([\n",
    "                     [7, 3, 3, 2, 3, 2, 1], [8, 3, 3, 2, 3, 2, 1], [9, 3, 3, 2, 3, 3, 3] ])\n",
    "added = pd.DataFrame(\n",
    "    data_in, columns=[\"call\", \"order\", \"already\", \"jokers\", \"aces\", \"kings\", 'queens'])\n",
    "dataset = dataset.append(added, ignore_index=True)\n",
    "# split into input (X) and output (y) variables\n",
    "X = dataset[[\"order\", \"already\", \"jokers\", \"aces\", \"kings\", 'queens']]\n",
    "y = dataset[\"call\"]\n",
    "X_train, X_test, y_train, y_test = train_test_split(X, y, test_size=0.1)\n"
   ]
  },
  {
   "cell_type": "code",
   "execution_count": 18,
   "metadata": {},
   "outputs": [],
   "source": [
    "# encode class values as integers\n",
    "encoder = LabelEncoder()\n",
    "encoder.fit(y_train.astype(float))\n",
    "encoded_Y = encoder.transform(y_train)\n",
    "# convert integers to dummy variables (i.e. one hot encoded)\n",
    "y_train_one_hot = np_utils.to_categorical(encoded_Y)\n",
    "\n",
    "encoder = LabelEncoder()\n",
    "encoder.fit(y_test)\n",
    "encoded_Y = encoder.transform(y_test.astype(float))\n",
    "# convert integers to dummy variables (i.e. one hot encoded)\n",
    "y_test_one_hot = np_utils.to_categorical(encoded_Y)\n"
   ]
  },
  {
   "cell_type": "code",
   "execution_count": 19,
   "metadata": {},
   "outputs": [],
   "source": [
    "model = Sequential()\n",
    "model.add(Dense(12, input_dim=(6), activation=\"relu\"))\n",
    "model.add(Dense(12, activation=\"relu\"))\n",
    "model.add(Dense(10, activation=\"softmax\"))\n",
    "\n",
    "# compile the keras model\n",
    "model.compile(loss='binary_crossentropy', optimizer='adam', metrics=['accuracy'])\n"
   ]
  },
  {
   "cell_type": "code",
   "execution_count": 20,
   "metadata": {},
   "outputs": [
    {
     "name": "stdout",
     "output_type": "stream",
     "text": [
      "Epoch 1/5\n",
      "87513/87513 [==============================] - 15s 170us/step - loss: 0.2098 - accuracy: 0.9195s - loss: 0.2\n",
      "Epoch 2/5\n",
      "87513/87513 [==============================] - 15s 168us/step - loss: 0.1696 - accuracy: 0.9402\n",
      "Epoch 3/5\n",
      "87513/87513 [==============================] - 18s 208us/step - loss: 0.1606 - accuracy: 0.9425\n",
      "Epoch 4/5\n",
      "87513/87513 [==============================] - 22s 248us/step - loss: 0.1551 - accuracy: 0.9440\n",
      "Epoch 5/5\n",
      "87513/87513 [==============================] - 23s 268us/step - loss: 0.1521 - accuracy: 0.9446\n"
     ]
    },
    {
     "data": {
      "text/plain": [
       "<keras.callbacks.callbacks.History at 0x7f77f9676510>"
      ]
     },
     "execution_count": 20,
     "metadata": {},
     "output_type": "execute_result"
    }
   ],
   "source": [
    "# fit the keras model on the dataset\n",
    "model.fit(X_train, y_train_one_hot, epochs=5, batch_size=16)\n"
   ]
  },
  {
   "cell_type": "code",
   "execution_count": 21,
   "metadata": {},
   "outputs": [
    {
     "name": "stdout",
     "output_type": "stream",
     "text": [
      "9724/9724 [==============================] - 0s 50us/step\n",
      "Test loss: 0.15041860953089828\n",
      "Test accuracy: 0.9446423649787903\n"
     ]
    }
   ],
   "source": [
    "score = model.evaluate(X_test, y_test_one_hot)\n",
    "print('Test loss:', score[0])\n",
    "print('Test accuracy:', score[1])\n"
   ]
  },
  {
   "cell_type": "markdown",
   "metadata": {},
   "source": [
    "### Pickle the model for later use"
   ]
  },
  {
   "cell_type": "code",
   "execution_count": 22,
   "metadata": {},
   "outputs": [],
   "source": [
    "model.save('../models/calling_nn_1.pickle')"
   ]
  },
  {
   "cell_type": "markdown",
   "metadata": {},
   "source": [
    "### Make sure model works"
   ]
  },
  {
   "cell_type": "code",
   "execution_count": 23,
   "metadata": {},
   "outputs": [],
   "source": [
    "model = load_model('../models/calling_nn_1.pickle')\n"
   ]
  },
  {
   "cell_type": "code",
   "execution_count": 24,
   "metadata": {},
   "outputs": [
    {
     "name": "stdout",
     "output_type": "stream",
     "text": [
      "9724/9724 [==============================] - 1s 62us/step\n",
      "Test loss: 0.15041860953089828\n",
      "Test accuracy: 0.9446423649787903\n"
     ]
    }
   ],
   "source": [
    "score = model.evaluate(X_test, y_test_one_hot)\n",
    "print('Test loss:', score[0])\n",
    "print('Test accuracy:', score[1])"
   ]
  },
  {
   "cell_type": "code",
   "execution_count": null,
   "metadata": {},
   "outputs": [],
   "source": []
  }
 ],
 "metadata": {
  "interpreter": {
   "hash": "15716d1bd4e760a97bfdc9cede028b206998d978863ac9ec616ea1a45b467f37"
  },
  "kernelspec": {
   "display_name": "Python 3.7.7 ('tensorflow')",
   "language": "python",
   "name": "python3"
  },
  "language_info": {
   "codemirror_mode": {
    "name": "ipython",
    "version": 3
   },
   "file_extension": ".py",
   "mimetype": "text/x-python",
   "name": "python",
   "nbconvert_exporter": "python",
   "pygments_lexer": "ipython3",
   "version": "3.7.7"
  },
  "orig_nbformat": 4
 },
 "nbformat": 4,
 "nbformat_minor": 2
}
