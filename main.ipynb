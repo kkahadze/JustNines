{
 "cells": [
  {
   "cell_type": "code",
   "execution_count": 4,
   "metadata": {},
   "outputs": [],
   "source": [
    "# Custom libraries\n",
    "import environment as joker\n",
    "\n",
    "# Public libraries\n",
    "import pandas as pd\n",
    "import numpy as np\n",
    "import ipywidgets as widgets\n",
    "import matplotlib.pyplot as plt\n",
    "from matplotlib.pyplot import cm\n",
    "import seaborn as sns\n",
    "\n",
    "sns.set()"
   ]
  },
  {
   "cell_type": "code",
   "execution_count": 5,
   "metadata": {},
   "outputs": [],
   "source": [
    "def bold(string):\n",
    "    chr_start = \"\\033[1m\"\n",
    "    chr_end = \"\\033[0m\"\n",
    "    print (chr_start + string + chr_end)\n",
    "    \n",
    "def underline(string):\n",
    "    chr_start = \"\\033[4m\"\n",
    "    chr_end = \"\\033[0m\"\n",
    "    print(chr_start + string + chr_end)\n",
    "\n",
    "def color_lib(categories):\n",
    "    \"\"\"\n",
    "    This function generates a dictionary that assigns a specific color from a color spectrum to each fund.\n",
    "    It enables consistent coloring across visualizations.\n",
    "    \"\"\"\n",
    "    \n",
    "    c_scale = cm.rainbow(np.linspace(0,1,len(categories)))\n",
    "    c_dict = {}\n",
    "\n",
    "    for i,c in zip(categories,c_scale):\n",
    "        c_dict[i] = c\n",
    "        \n",
    "    return c_dict"
   ]
  },
  {
   "cell_type": "code",
   "execution_count": 6,
   "metadata": {},
   "outputs": [
    {
     "name": "stdout",
     "output_type": "stream",
     "text": [
      "\u001b[4mGeneral Settings:\u001b[0m\n"
     ]
    },
    {
     "data": {
      "application/vnd.jupyter.widget-view+json": {
       "model_id": "baed9cb4dbf0461783e906adb7d48b74",
       "version_major": 2,
       "version_minor": 0
      },
      "text/plain": [
       "IntText(value=100, description='Simulations:')"
      ]
     },
     "metadata": {},
     "output_type": "display_data"
    },
    {
     "data": {
      "application/vnd.jupyter.widget-view+json": {
       "model_id": "340f082867e74ec1bc557b0383a01ff8",
       "version_major": 2,
       "version_minor": 0
      },
      "text/plain": [
       "Dropdown(description='Algorithm:', options=('monte-carlo', 'q-learning'), value='monte-carlo')"
      ]
     },
     "metadata": {},
     "output_type": "display_data"
    },
    {
     "data": {
      "application/vnd.jupyter.widget-view+json": {
       "model_id": "dbffa747fb474894ac530ebc545ceb9c",
       "version_major": 2,
       "version_minor": 0
      },
      "text/plain": [
       "Dropdown(description='New Model:', options=(True, False), value=True)"
      ]
     },
     "metadata": {},
     "output_type": "display_data"
    },
    {
     "data": {
      "application/vnd.jupyter.widget-view+json": {
       "model_id": "99d43525757c42d6a32822e3c0322381",
       "version_major": 2,
       "version_minor": 0
      },
      "text/plain": [
       "Dropdown(description='Show Game:', index=1, options=(True, False), value=False)"
      ]
     },
     "metadata": {},
     "output_type": "display_data"
    },
    {
     "name": "stdout",
     "output_type": "stream",
     "text": [
      "\u001b[4m\n",
      "Model Parameters:\u001b[0m\n"
     ]
    },
    {
     "data": {
      "application/vnd.jupyter.widget-view+json": {
       "model_id": "1191630c2e0a480585f32b082b2e5edc",
       "version_major": 2,
       "version_minor": 0
      },
      "text/plain": [
       "FloatSlider(value=0.2, description='Epsilson:', max=1.0, step=0.01)"
      ]
     },
     "metadata": {},
     "output_type": "display_data"
    },
    {
     "data": {
      "application/vnd.jupyter.widget-view+json": {
       "model_id": "008b36ff73304d3693000186e31b0296",
       "version_major": 2,
       "version_minor": 0
      },
      "text/plain": [
       "FloatSlider(value=0.2, description='Step Size:', max=1.0, step=0.01)"
      ]
     },
     "metadata": {},
     "output_type": "display_data"
    }
   ],
   "source": [
    "# Widgets for settings\n",
    "widg_sim       = widgets.IntText(value = 100, description = \"Simulations:\")\n",
    "widg_algo      = widgets.Dropdown(options=[\"monte-carlo\",\"q-learning\"], value=\"monte-carlo\", description=\"Algorithm:\")\n",
    "widg_new_model = widgets.Dropdown(options=[True,False], value=True, description=\"New Model:\")\n",
    "widg_comment   = widgets.Dropdown(options=[True,False], value=False, description=\"Show Game:\")\n",
    "\n",
    "# Widgets for parameters\n",
    "widg_epsilon = widgets.FloatSlider(value=0.2, min=0, max=1, step=0.01, description=\"Epsilson:\", readout_format=\".2f\")\n",
    "widg_step    = widgets.FloatSlider(value=0.2, min=0, max=1, step=0.01, description=\"Step Size:\", readout_format=\".2f\")\n",
    "\n",
    "underline (\"General Settings:\")\n",
    "display(widg_sim)\n",
    "display(widg_algo)\n",
    "display(widg_new_model)\n",
    "display(widg_comment)\n",
    "\n",
    "underline (\"\\nModel Parameters:\")\n",
    "display(widg_epsilon)\n",
    "display(widg_step)"
   ]
  },
  {
   "cell_type": "code",
   "execution_count": 10,
   "metadata": {},
   "outputs": [],
   "source": [
    "winners, pts, coverage = list(), list(), list()"
   ]
  },
  {
   "cell_type": "code",
   "execution_count": 11,
   "metadata": {},
   "outputs": [
    {
     "data": {
      "application/vnd.jupyter.widget-view+json": {
       "model_id": "6a1fb71723f94c04878ee88981f74e7a",
       "version_major": 2,
       "version_minor": 0
      },
      "text/plain": [
       "  0%|          | 0/100 [00:00<?, ?it/s]"
      ]
     },
     "metadata": {},
     "output_type": "display_data"
    },
    {
     "ename": "NameError",
     "evalue": "name 'Game' is not defined",
     "output_type": "error",
     "traceback": [
      "\u001b[0;31m---------------------------------------------------------------------------\u001b[0m",
      "\u001b[0;31mNameError\u001b[0m                                 Traceback (most recent call last)",
      "\u001b[0;32m/var/folders/mp/f6xyrt0d39nfy4lhdt7vg5h00000gn/T/ipykernel_24512/3721790720.py\u001b[0m in \u001b[0;36m<module>\u001b[0;34m\u001b[0m\n\u001b[1;32m      9\u001b[0m                      \u001b[0malgo\u001b[0m       \u001b[0;34m=\u001b[0m \u001b[0mwidg_algo\u001b[0m\u001b[0;34m.\u001b[0m\u001b[0mvalue\u001b[0m\u001b[0;34m,\u001b[0m\u001b[0;34m\u001b[0m\u001b[0;34m\u001b[0m\u001b[0m\n\u001b[1;32m     10\u001b[0m                      \u001b[0mcomment\u001b[0m    \u001b[0;34m=\u001b[0m \u001b[0mwidg_comment\u001b[0m\u001b[0;34m.\u001b[0m\u001b[0mvalue\u001b[0m\u001b[0;34m,\u001b[0m\u001b[0;34m\u001b[0m\u001b[0;34m\u001b[0m\u001b[0m\n\u001b[0;32m---> 11\u001b[0;31m                      agent_info = agent_info)\n\u001b[0m\u001b[1;32m     12\u001b[0m \u001b[0;34m\u001b[0m\u001b[0m\n\u001b[1;32m     13\u001b[0m \u001b[0;34m\u001b[0m\u001b[0m\n",
      "\u001b[0;32m~/Desktop/JokerRL/environment.py\u001b[0m in \u001b[0;36mtournament\u001b[0;34m(iterations, algo, comment, agent_info)\u001b[0m\n\u001b[1;32m     58\u001b[0m         \u001b[0mcoverage\u001b[0m\u001b[0;34m.\u001b[0m\u001b[0mappend\u001b[0m\u001b[0;34m(\u001b[0m\u001b[0;34m(\u001b[0m\u001b[0magent\u001b[0m\u001b[0;34m.\u001b[0m\u001b[0mq\u001b[0m \u001b[0;34m!=\u001b[0m \u001b[0;36m0\u001b[0m\u001b[0;34m)\u001b[0m\u001b[0;34m.\u001b[0m\u001b[0mvalues\u001b[0m\u001b[0;34m.\u001b[0m\u001b[0msum\u001b[0m\u001b[0;34m(\u001b[0m\u001b[0;34m)\u001b[0m\u001b[0;34m)\u001b[0m\u001b[0;34m\u001b[0m\u001b[0;34m\u001b[0m\u001b[0m\n\u001b[1;32m     59\u001b[0m \u001b[0;34m\u001b[0m\u001b[0m\n\u001b[0;32m---> 60\u001b[0;31m     \u001b[0;31m# Timer\u001b[0m\u001b[0;34m\u001b[0m\u001b[0;34m\u001b[0m\u001b[0;34m\u001b[0m\u001b[0m\n\u001b[0m\u001b[1;32m     61\u001b[0m     \u001b[0mtimer_end\u001b[0m \u001b[0;34m=\u001b[0m \u001b[0mtime\u001b[0m\u001b[0;34m.\u001b[0m\u001b[0mtime\u001b[0m\u001b[0;34m(\u001b[0m\u001b[0;34m)\u001b[0m\u001b[0;34m\u001b[0m\u001b[0;34m\u001b[0m\u001b[0m\n\u001b[1;32m     62\u001b[0m     \u001b[0mtimer_dur\u001b[0m \u001b[0;34m=\u001b[0m \u001b[0mtimer_end\u001b[0m \u001b[0;34m-\u001b[0m \u001b[0mtimer_start\u001b[0m\u001b[0;34m\u001b[0m\u001b[0;34m\u001b[0m\u001b[0m\n",
      "\u001b[0;31mNameError\u001b[0m: name 'Game' is not defined"
     ]
    }
   ],
   "source": [
    "# Agent parameters\n",
    "agent_info = {\"epsilon\"  : widg_epsilon.value, \n",
    "              \"step_size\": widg_step.value, \n",
    "              \"new_model\": widg_new_model.value}\n",
    "\n",
    "\n",
    "# Run simulations\n",
    "run = joker.tournament(iterations = widg_sim.value,\n",
    "                     algo       = widg_algo.value,\n",
    "                     comment    = widg_comment.value,\n",
    "                     agent_info = agent_info)\n",
    "\n",
    "\n",
    "winners.extend(run[0])\n",
    "pts.extend(run[1])\n",
    "coverage.extend(run[2])"
   ]
  },
  {
   "cell_type": "code",
   "execution_count": null,
   "metadata": {},
   "outputs": [],
   "source": []
  },
  {
   "cell_type": "code",
   "execution_count": null,
   "metadata": {},
   "outputs": [],
   "source": []
  }
 ],
 "metadata": {
  "interpreter": {
   "hash": "15716d1bd4e760a97bfdc9cede028b206998d978863ac9ec616ea1a45b467f37"
  },
  "kernelspec": {
   "display_name": "Python 3.7.7 ('tensorflow')",
   "language": "python",
   "name": "python3"
  },
  "language_info": {
   "codemirror_mode": {
    "name": "ipython",
    "version": 3
   },
   "file_extension": ".py",
   "mimetype": "text/x-python",
   "name": "python",
   "nbconvert_exporter": "python",
   "pygments_lexer": "ipython3",
   "version": "3.7.7"
  },
  "orig_nbformat": 4
 },
 "nbformat": 4,
 "nbformat_minor": 2
}
