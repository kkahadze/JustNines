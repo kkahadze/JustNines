{
 "cells": [
  {
   "cell_type": "code",
   "execution_count": 1,
   "metadata": {},
   "outputs": [],
   "source": [
    "from nines_gym import NineEnv\n",
    "import numpy as np\n",
    "import random"
   ]
  },
  {
   "cell_type": "code",
   "execution_count": 2,
   "metadata": {},
   "outputs": [],
   "source": [
    "def LearnJoker(q_in=np.zeros((4, 9, 3, 4, 18, 4)), alpha_in=0.01, epsilon_in=0.5, gamma_in=0.95, episodes_in=100):\n",
    "  acts = ['STRG-BEAT', 'STRG-LOSS', 'WEAK-BEAT','WEAK-LOSS']\n",
    "  env = NineEnv()\n",
    "\n",
    "  alpha, gamma, epsilon = alpha_in, gamma_in, epsilon_in\n",
    "  q = q_in\n",
    "  wins = []\n",
    "\n",
    "  for i in range(episodes_in): \n",
    "    done = False\n",
    "    s = env.reset()\n",
    "    s0, s1, s2, s3, s4 = s\n",
    "    while True: \n",
    "      if np.random.random() < epsilon:\n",
    "      # choose random action\n",
    "        act_num = random.randint(0, 3)\n",
    "      else:\n",
    "        # greedy\n",
    "        act_num = np.argmax(q[s0, s1, s2, s3, s4])\n",
    "      \n",
    "      action = acts[act_num]\n",
    "\n",
    "      s_, r, done, _ = env.step(action)\n",
    "\n",
    "      s_0, s_1, s_2, s_3, s_4 = s_\n",
    "      td_target = r + gamma * np.argmax(q[s_0, s_1, s_2, s_3, s_4])\n",
    "      td_error = td_target - q[s0, s1, s2, s3, s4, act_num]\n",
    "      s = s_\n",
    "\n",
    "      q[s0, s1, s2, s3, s4, act_num] += alpha * td_error\n",
    "      if done:\n",
    "        if r > 0:\n",
    "          wins.append(i)\n",
    "        break\n",
    "  return wins, q"
   ]
  },
  {
   "cell_type": "code",
   "execution_count": 4,
   "metadata": {},
   "outputs": [
    {
     "data": {
      "text/plain": [
       "0.482"
      ]
     },
     "execution_count": 4,
     "metadata": {},
     "output_type": "execute_result"
    }
   ],
   "source": [
    "eps = 1000\n",
    "wins, q = LearnJoker(epsilon_in=0.9, episodes_in=eps)\n",
    "len(wins) / eps"
   ]
  },
  {
   "cell_type": "code",
   "execution_count": null,
   "metadata": {},
   "outputs": [],
   "source": [
    "eps = 1000\n",
    "wins, q = LearnJoker(q_in=q,epsilon_in=0, episodes_in=eps)\n",
    "len(wins) /eps"
   ]
  },
  {
   "cell_type": "code",
   "execution_count": 10,
   "metadata": {},
   "outputs": [],
   "source": [
    "def save_q_table(table):\n",
    "    file = '/models/q-table.npy'\n",
    "    with open(file, \"x\"):\n",
    "        np.save(file, table)"
   ]
  },
  {
   "cell_type": "code",
   "execution_count": 11,
   "metadata": {},
   "outputs": [
    {
     "ename": "FileNotFoundError",
     "evalue": "[Errno 2] No such file or directory: '/models/q-table.npy'",
     "output_type": "error",
     "traceback": [
      "\u001b[0;31m---------------------------------------------------------------------------\u001b[0m",
      "\u001b[0;31mFileNotFoundError\u001b[0m                         Traceback (most recent call last)",
      "\u001b[0;32m/var/folders/mp/f6xyrt0d39nfy4lhdt7vg5h00000gn/T/ipykernel_10036/3053264224.py\u001b[0m in \u001b[0;36m<module>\u001b[0;34m\u001b[0m\n\u001b[0;32m----> 1\u001b[0;31m \u001b[0msave_q_table\u001b[0m\u001b[0;34m(\u001b[0m\u001b[0mq\u001b[0m\u001b[0;34m)\u001b[0m\u001b[0;34m\u001b[0m\u001b[0;34m\u001b[0m\u001b[0m\n\u001b[0m",
      "\u001b[0;32m/var/folders/mp/f6xyrt0d39nfy4lhdt7vg5h00000gn/T/ipykernel_10036/1279003292.py\u001b[0m in \u001b[0;36msave_q_table\u001b[0;34m(table)\u001b[0m\n\u001b[1;32m      1\u001b[0m \u001b[0;32mdef\u001b[0m \u001b[0msave_q_table\u001b[0m\u001b[0;34m(\u001b[0m\u001b[0mtable\u001b[0m\u001b[0;34m)\u001b[0m\u001b[0;34m:\u001b[0m\u001b[0;34m\u001b[0m\u001b[0;34m\u001b[0m\u001b[0m\n\u001b[1;32m      2\u001b[0m     \u001b[0mfile\u001b[0m \u001b[0;34m=\u001b[0m \u001b[0;34m'/models/q-table.npy'\u001b[0m\u001b[0;34m\u001b[0m\u001b[0;34m\u001b[0m\u001b[0m\n\u001b[0;32m----> 3\u001b[0;31m     \u001b[0;32mwith\u001b[0m \u001b[0mopen\u001b[0m\u001b[0;34m(\u001b[0m\u001b[0mfile\u001b[0m\u001b[0;34m,\u001b[0m \u001b[0;34m\"w+\"\u001b[0m\u001b[0;34m)\u001b[0m\u001b[0;34m:\u001b[0m\u001b[0;34m\u001b[0m\u001b[0;34m\u001b[0m\u001b[0m\n\u001b[0m\u001b[1;32m      4\u001b[0m         \u001b[0mnp\u001b[0m\u001b[0;34m.\u001b[0m\u001b[0msave\u001b[0m\u001b[0;34m(\u001b[0m\u001b[0mfile\u001b[0m\u001b[0;34m,\u001b[0m \u001b[0mtable\u001b[0m\u001b[0;34m)\u001b[0m\u001b[0;34m\u001b[0m\u001b[0;34m\u001b[0m\u001b[0m\n",
      "\u001b[0;31mFileNotFoundError\u001b[0m: [Errno 2] No such file or directory: '/models/q-table.npy'"
     ]
    }
   ],
   "source": [
    "save_q_table(q)"
   ]
  },
  {
   "cell_type": "code",
   "execution_count": null,
   "metadata": {},
   "outputs": [],
   "source": []
  }
 ],
 "metadata": {
  "interpreter": {
   "hash": "aee8b7b246df8f9039afb4144a1f6fd8d2ca17a180786b69acc140d282b71a49"
  },
  "kernelspec": {
   "display_name": "Python 3.9.12 64-bit",
   "language": "python",
   "name": "python3"
  },
  "language_info": {
   "codemirror_mode": {
    "name": "ipython",
    "version": 3
   },
   "file_extension": ".py",
   "mimetype": "text/x-python",
   "name": "python",
   "nbconvert_exporter": "python",
   "pygments_lexer": "ipython3",
   "version": "3.9.12"
  },
  "orig_nbformat": 4
 },
 "nbformat": 4,
 "nbformat_minor": 2
}
