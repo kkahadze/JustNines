{
 "cells": [
  {
   "cell_type": "code",
   "execution_count": 1,
   "metadata": {},
   "outputs": [],
   "source": [
    "from just_nines import NineEnv\n",
    "import numpy as np\n",
    "import random"
   ]
  },
  {
   "cell_type": "code",
   "execution_count": 5,
   "metadata": {},
   "outputs": [],
   "source": [
    "def LearnJoker(q_in=np.ndarray((4, 9, 3, 4, 18, 4)), alpha_in=0.01, epsilon_in=0.5, gamma_in=0.95, episodes_in=100):\n",
    "  acts = ['STRG-BEAT', 'STRG-LOSS', 'WEAK-BEAT','WEAK-LOSS']\n",
    "  env = NineEnv()\n",
    "\n",
    "  alpha, gamma, epsilon = alpha_in, gamma_in, epsilon_in\n",
    "  q = q_in\n",
    "  wins = []\n",
    "\n",
    "  for i in range(episodes_in): \n",
    "    done = False\n",
    "    s = env.reset()\n",
    "    while True: \n",
    "      if np.random.random() < epsilon:\n",
    "      # choose random action\n",
    "        act_num = random.randint(0, 3)\n",
    "      else:\n",
    "        # greedy\n",
    "        s0, s1, s2, s3, s4 = s\n",
    "        act_num = np.argmax(q[s0, s1, s2, s3, s4])\n",
    "      \n",
    "      action = acts[act_num]\n",
    "\n",
    "      s_, r, done, _ = env.step(action)\n",
    "\n",
    "      s_0, s_1, s_2, s_3, s_4 = s_\n",
    "      td_target = r + gamma * np.argmax(q[s_0, s_1, s_2, s_3, s_4])\n",
    "      td_error = td_target - q[s0, s1, s2, s3, s4, act_num]\n",
    "      s = s_\n",
    "\n",
    "      q[s0, s1, s2, s3, s4, act_num] += alpha * td_error\n",
    "      if done:\n",
    "        if r > 0:\n",
    "          wins.append(i)\n",
    "        break\n",
    "  return wins, q"
   ]
  },
  {
   "cell_type": "code",
   "execution_count": 6,
   "metadata": {},
   "outputs": [
    {
     "data": {
      "text/plain": [
       "[0,\n",
       " 4,\n",
       " 5,\n",
       " 6,\n",
       " 7,\n",
       " 11,\n",
       " 13,\n",
       " 14,\n",
       " 16,\n",
       " 18,\n",
       " 19,\n",
       " 23,\n",
       " 24,\n",
       " 26,\n",
       " 28,\n",
       " 29,\n",
       " 30,\n",
       " 31,\n",
       " 35,\n",
       " 43,\n",
       " 46,\n",
       " 47,\n",
       " 48,\n",
       " 49,\n",
       " 50,\n",
       " 51,\n",
       " 52,\n",
       " 53,\n",
       " 54,\n",
       " 57,\n",
       " 58,\n",
       " 65,\n",
       " 71,\n",
       " 73,\n",
       " 74,\n",
       " 76,\n",
       " 77,\n",
       " 78,\n",
       " 91,\n",
       " 93,\n",
       " 97]"
      ]
     },
     "execution_count": 6,
     "metadata": {},
     "output_type": "execute_result"
    }
   ],
   "source": [
    "wins, q = LearnJoker()\n",
    "wins"
   ]
  }
 ],
 "metadata": {
  "interpreter": {
   "hash": "2496e9c8954cfb85d8fd929854c5948b9695e07ca8c3f102449d1d34246a9882"
  },
  "kernelspec": {
   "display_name": "Python 3.8.2 ('gym')",
   "language": "python",
   "name": "python3"
  },
  "language_info": {
   "codemirror_mode": {
    "name": "ipython",
    "version": 3
   },
   "file_extension": ".py",
   "mimetype": "text/x-python",
   "name": "python",
   "nbconvert_exporter": "python",
   "pygments_lexer": "ipython3",
   "version": "3.8.2"
  },
  "orig_nbformat": 4
 },
 "nbformat": 4,
 "nbformat_minor": 2
}
